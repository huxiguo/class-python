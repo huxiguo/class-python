{
 "cells": [
  {
   "attachments": {},
   "cell_type": "markdown",
   "metadata": {},
   "source": [
    "# 实验一"
   ]
  },
  {
   "cell_type": "code",
   "execution_count": null,
   "metadata": {},
   "outputs": [],
   "source": [
    "import pandas as pd\n",
    "df=pd.read_csv('./dataSet2.csv')\n",
    "sample_count = df.shape[0]\n",
    "print(\"样本个数为：\", sample_count)\n",
    "# 统计H3MeK4_N列特征值个数\n",
    "h3mek4_n_counts = df['H3MeK4_N'].value_counts()\n",
    "print(\"H3MeK4_N列特征值个数为：\\n\", h3mek4_n_counts)\n",
    "\n",
    "# 统计CaNA_N列特征值个数\n",
    "cana_n_counts = df['CaNA_N'].value_counts()\n",
    "print(\"CaNA_N列特征值个数为：\\n\", cana_n_counts)\n",
    "\n",
    "# 统计class列中每个类别的样本个数\n",
    "class_counts = df['class'].value_counts()\n",
    "print(\"class列的类别个数为：\", class_counts.shape[0])\n",
    "print(\"class列每个类别的样本个数为：\\n\", class_counts)\n",
    "\n",
    "# 统计grade列中每个类别的样本个数\n",
    "grade_counts = df['grade'].value_counts()\n",
    "print(\"grade列的类别个数为：\", grade_counts.shape[0])\n",
    "print(\"grade列每个类别的样本个数为：\\n\", grade_counts)\n",
    "\n",
    "# 计算H3MeK4_N列的均值、方差及中位数\n",
    "h3mek4_n_stats = df['H3MeK4_N'].describe()\n",
    "h3mek4_n_mean = h3mek4_n_stats['mean']\n",
    "h3mek4_n_var = h3mek4_n_stats['std'] ** 2\n",
    "h3mek4_n_median = h3mek4_n_stats['50%']\n",
    "print(\"H3MeK4_N列的均值为：\", h3mek4_n_mean)\n",
    "print(\"H3MeK4_N列的方差为：\", h3mek4_n_var)\n",
    "print(\"H3MeK4_N列的中位数为：\", h3mek4_n_median)\n",
    "\n",
    "# 计算CaNA_N列的均值、方差及中位数\n",
    "cana_n_stats = df['CaNA_N'].describe()\n",
    "cana_n_mean = cana_n_stats['mean']\n",
    "cana_n_var = cana_n_stats['std'] ** 2\n",
    "cana_n_median = cana_n_stats['50%']\n",
    "print(\"CaNA_N列的均值为：\", cana_n_mean)\n",
    "print(\"CaNA_N列的方差为：\", cana_n_var)\n",
    "print(\"CaNA_N列的中位数为：\", cana_n_median)"
   ]
  },
  {
   "attachments": {},
   "cell_type": "markdown",
   "metadata": {},
   "source": [
    "# 实验二"
   ]
  },
  {
   "cell_type": "code",
   "execution_count": null,
   "metadata": {},
   "outputs": [],
   "source": [
    "import pandas as pd\n",
    "df=pd.read_csv('./dataSet2.csv')\n",
    "\n",
    "# 筛选出H3MeK4_N列和CaNA_N列在最大最小阈值内的数据\n",
    "df_filtered = df[(df['H3MeK4_N'] >= 0.2) & (df['H3MeK4_N'] <= 2) &\n",
    "                 (df['CaNA_N'] >= 0.2) & (df['CaNA_N'] <= 2)] \n",
    "\n",
    "# 将处理完的数据另存为学号_data1.csv\n",
    "df_filtered.to_csv(\"113120200176_data1.csv\", index=False)"
   ]
  },
  {
   "attachments": {},
   "cell_type": "markdown",
   "metadata": {},
   "source": [
    "# 试验三\n"
   ]
  },
  {
   "cell_type": "code",
   "execution_count": null,
   "metadata": {},
   "outputs": [],
   "source": [
    "# 01\n",
    "import pandas as pd\n",
    "df=pd.read_csv('./dataSet2.csv')\n",
    "# 删除包含缺失值的行\n",
    "df_cleaned = df.dropna()\n",
    "# 将处理完的数据另存为学号_data2.csv\n",
    "df_cleaned.to_csv(\"113120200176_data2.csv\", index=False)"
   ]
  },
  {
   "cell_type": "code",
   "execution_count": null,
   "metadata": {},
   "outputs": [],
   "source": [
    "# 02\n",
    "import pandas as pd\n",
    "df=pd.read_csv('./dataSet2.csv')\n",
    "\n",
    "# 使用全1填充H3MeK4_N列中的缺失值\n",
    "df['H3MeK4_N'].fillna(1, inplace=True)\n",
    "\n",
    "# 将处理完的数据另存为学号_data3.csv\n",
    "df.to_csv(\"113120200176_data3.csv\", index=False)"
   ]
  },
  {
   "cell_type": "code",
   "execution_count": null,
   "metadata": {},
   "outputs": [],
   "source": [
    "# 03-mean\n",
    "import pandas as pd\n",
    "df=pd.read_csv('./dataSet2.csv')\n",
    "\n",
    "# 使用均值填充H3MeK4_N列中的缺失值\n",
    "mean = df['H3MeK4_N'].mean()\n",
    "df['H3MeK4_N'].fillna(mean, inplace=True)\n",
    "\n",
    "# 将处理完的数据另存为学号_data4.csv\n",
    "df.to_csv(\"113120200176_data4_mean.csv\", index=False)"
   ]
  },
  {
   "cell_type": "code",
   "execution_count": null,
   "metadata": {},
   "outputs": [],
   "source": [
    "# 03-median\n",
    "import pandas as pd\n",
    "df=pd.read_csv('./dataSet2.csv')\n",
    "\n",
    "# 使用中位数填充H3MeK4_N列中的缺失值\n",
    "median = df['H3MeK4_N'].median()\n",
    "df['H3MeK4_N'].fillna(median, inplace=True)\n",
    "\n",
    "# 将处理完的数据另存为学号_data4.csv\n",
    "df.to_csv(\"113120200176_data4_median.csv\", index=False)"
   ]
  },
  {
   "cell_type": "code",
   "execution_count": null,
   "metadata": {},
   "outputs": [],
   "source": [
    "# 03-mode\n",
    "import pandas as pd\n",
    "df=pd.read_csv('./dataSet2.csv')\n",
    "\n",
    "# 使用众数填充H3MeK4_N列中的缺失值\n",
    "mode = df['H3MeK4_N'].mode()[0]\n",
    "df['H3MeK4_N'].fillna(mode, inplace=True)\n",
    "\n",
    "# 将处理完的数据另存为学号_data4.csv\n",
    "df.to_csv(\"113120200176_data4_mode.csv\", index=False)"
   ]
  },
  {
   "attachments": {},
   "cell_type": "markdown",
   "metadata": {},
   "source": [
    "# 试验四\n",
    "\n",
    "## 使用 113120200176_data4_mode.csv 数据集\n",
    "\n",
    "- 可以选用其他数据\n"
   ]
  },
  {
   "cell_type": "code",
   "execution_count": null,
   "metadata": {},
   "outputs": [],
   "source": [
    "# MinMaxScaler\n",
    "import pandas as pd\n",
    "from sklearn.preprocessing import MinMaxScaler, StandardScaler\n",
    "\n",
    "# 读取原始数据\n",
    "df = pd.read_csv(\"113120200176_data4_mode.csv\")\n",
    "\n",
    "# 使用MinMaxScaler对H3MeK4_N列进行归一化\n",
    "min_max_scaler = MinMaxScaler()\n",
    "df[\"H3MeK4_N_normalized\"] = min_max_scaler.fit_transform(df[[\"H3MeK4_N\"]])\n",
    "\n",
    "# 使用StandardScaler对CaNA_N列进行标准化\n",
    "standard_scaler = StandardScaler()\n",
    "df[\"CaNA_N_standardized\"] = standard_scaler.fit_transform(df[[\"CaNA_N\"]])\n",
    "\n",
    "# 将处理结果保存为学号_data5.csv\n",
    "df.to_csv(\"113120200176_data5_MinMaxScaler.csv\", index=False)"
   ]
  },
  {
   "cell_type": "code",
   "execution_count": null,
   "metadata": {},
   "outputs": [],
   "source": [
    "# MaxAbsScaler\n",
    "import pandas as pd\n",
    "from sklearn.preprocessing import MaxAbsScaler, StandardScaler\n",
    "\n",
    "# 读取原始数据\n",
    "df = pd.read_csv(\"113120200176_data4_mode.csv\")\n",
    "\n",
    "# 使用MaxAbsScaler对H3MeK4_N列进行归一化\n",
    "max_abs_scaler = MaxAbsScaler()\n",
    "df[\"H3MeK4_N_normalized\"] = max_abs_scaler.fit_transform(df[[\"H3MeK4_N\"]])\n",
    "\n",
    "# 使用StandardScaler对CaNA_N列进行标准化\n",
    "standard_scaler = StandardScaler()\n",
    "df[\"CaNA_N_standardized\"] = standard_scaler.fit_transform(df[[\"CaNA_N\"]])\n",
    "\n",
    "# 将处理结果保存为学号_data5.csv\n",
    "df.to_csv(\"113120200176_data5_MaxAbsScaler.csv\", index=False)\n"
   ]
  },
  {
   "cell_type": "code",
   "execution_count": null,
   "metadata": {},
   "outputs": [],
   "source": [
    "# RobustScaler\n",
    "import pandas as pd\n",
    "from sklearn.preprocessing import RobustScaler, StandardScaler\n",
    "\n",
    "# 读取原始数据\n",
    "df = pd.read_csv(\"113120200176_data4_mode.csv\")\n",
    "\n",
    "# 使用RobustScaler对H3MeK4_N列进行归一化\n",
    "robust_scaler = RobustScaler()\n",
    "df[\"H3MeK4_N_normalized\"] = robust_scaler.fit_transform(df[[\"H3MeK4_N\"]])\n",
    "\n",
    "# 使用StandardScaler对CaNA_N列进行标准化\n",
    "standard_scaler = StandardScaler()\n",
    "df[\"CaNA_N_standardized\"] = standard_scaler.fit_transform(df[[\"CaNA_N\"]])\n",
    "\n",
    "# 将处理结果保存为学号_data5.csv\n",
    "df.to_csv(\"113120200176_data5_RobustScaler.csv\", index=False)\n"
   ]
  }
 ],
 "metadata": {
  "kernelspec": {
   "display_name": "Python 3",
   "language": "python",
   "name": "python3"
  },
  "language_info": {
   "codemirror_mode": {
    "name": "ipython",
    "version": 3
   },
   "file_extension": ".py",
   "mimetype": "text/x-python",
   "name": "python",
   "nbconvert_exporter": "python",
   "pygments_lexer": "ipython3",
   "version": "3.11.1"
  },
  "orig_nbformat": 4
 },
 "nbformat": 4,
 "nbformat_minor": 2
}
