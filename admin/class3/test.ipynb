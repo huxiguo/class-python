{
 "cells": [
  {
   "cell_type": "code",
   "execution_count": null,
   "metadata": {},
   "outputs": [],
   "source": [
    "import pandas as pd\n",
    "df=pd.read_csv('./dataSet2.csv')\n",
    "sample_count = df.shape[0]\n",
    "print(\"样本个数为：\", sample_count)"
   ]
  },
  {
   "cell_type": "code",
   "execution_count": null,
   "metadata": {},
   "outputs": [],
   "source": [
    "import pandas as pd\n",
    "df=pd.read_csv('./dataSet2.csv')\n",
    "# 统计H3MeK4_N列特征值个数\n",
    "h3mek4_n_counts = df['H3MeK4_N'].value_counts()\n",
    "print(\"H3MeK4_N列特征值个数为：\\n\", h3mek4_n_counts)"
   ]
  },
  {
   "cell_type": "code",
   "execution_count": null,
   "metadata": {},
   "outputs": [],
   "source": [
    "import pandas as pd\n",
    "df=pd.read_csv('./dataSet2.csv')\n",
    "# 统计CaNA_N列特征值个数\n",
    "cana_n_counts = df['CaNA_N'].value_counts()\n",
    "print(\"CaNA_N列特征值个数为：\\n\", cana_n_counts)\n"
   ]
  },
  {
   "cell_type": "code",
   "execution_count": null,
   "metadata": {},
   "outputs": [],
   "source": [
    "import pandas as pd\n",
    "df=pd.read_csv('./dataSet2.csv')\n",
    "# 统计class列中每个类别的样本个数\n",
    "class_counts = df['class'].value_counts()\n",
    "print(\"class列的类别个数为：\", class_counts.shape[0])\n",
    "print(\"class列每个类别的样本个数为：\\n\", class_counts)\n",
    "\n"
   ]
  },
  {
   "cell_type": "code",
   "execution_count": null,
   "metadata": {},
   "outputs": [],
   "source": [
    "import pandas as pd\n",
    "df=pd.read_csv('./dataSet2.csv')\n",
    "# 统计grade列中每个类别的样本个数\n",
    "grade_counts = df['grade'].value_counts()\n",
    "print(\"grade列的类别个数为：\", grade_counts.shape[0])\n",
    "print(\"grade列每个类别的样本个数为：\\n\", grade_counts)\n"
   ]
  },
  {
   "cell_type": "code",
   "execution_count": 8,
   "metadata": {},
   "outputs": [
    {
     "name": "stdout",
     "output_type": "stream",
     "text": [
      "H3MeK4_N列的均值为： 0.2054395747469136\n",
      "H3MeK4_N列的方差为： 0.0030817958711917186\n",
      "H3MeK4_N列的中位数为： 0.19399351250000002\n",
      "CaNA_N列的均值为： 1.3377837497203704\n",
      "CaNA_N列的方差为： 0.10056904166772382\n",
      "CaNA_N列的中位数为： 1.317440838\n"
     ]
    }
   ],
   "source": [
    "import pandas as pd\n",
    "df=pd.read_csv('./dataSet2.csv')\n",
    "h3mek4_n_stats = df['H3MeK4_N'].describe()\n",
    "h3mek4_n_mean = h3mek4_n_stats['mean']\n",
    "h3mek4_n_var = h3mek4_n_stats['std'] ** 2\n",
    "h3mek4_n_median = h3mek4_n_stats['50%']\n",
    "print(\"H3MeK4_N列的均值为：\", h3mek4_n_mean)\n",
    "print(\"H3MeK4_N列的方差为：\", h3mek4_n_var)\n",
    "print(\"H3MeK4_N列的中位数为：\", h3mek4_n_median)\n",
    "\n",
    "# 计算CaNA_N列的均值、方差及中位数\n",
    "cana_n_stats = df['CaNA_N'].describe()\n",
    "cana_n_mean = cana_n_stats['mean']\n",
    "cana_n_var = cana_n_stats['std'] ** 2\n",
    "cana_n_median = cana_n_stats['50%']\n",
    "print(\"CaNA_N列的均值为：\", cana_n_mean)\n",
    "print(\"CaNA_N列的方差为：\", cana_n_var)\n",
    "print(\"CaNA_N列的中位数为：\", cana_n_median)"
   ]
  }
 ],
 "metadata": {
  "kernelspec": {
   "display_name": "Python 3",
   "language": "python",
   "name": "python3"
  },
  "language_info": {
   "codemirror_mode": {
    "name": "ipython",
    "version": 3
   },
   "file_extension": ".py",
   "mimetype": "text/x-python",
   "name": "python",
   "nbconvert_exporter": "python",
   "pygments_lexer": "ipython3",
   "version": "3.11.1"
  },
  "orig_nbformat": 4
 },
 "nbformat": 4,
 "nbformat_minor": 2
}
