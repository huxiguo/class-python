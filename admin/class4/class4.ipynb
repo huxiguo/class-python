{
 "cells": [
  {
   "attachments": {},
   "cell_type": "markdown",
   "metadata": {},
   "source": [
    "## 1.使用 LabelEncoder 或 OrdinalEncoder ，将 grade 列的特征值由 ABCD 转为 0123。"
   ]
  },
  {
   "cell_type": "code",
   "execution_count": null,
   "metadata": {},
   "outputs": [],
   "source": [
    "import pandas as pd\n",
    "from sklearn.preprocessing import LabelEncoder, OneHotEncoder\n",
    "\n",
    "# 读取数据文件\n",
    "data = pd.read_csv(\"113120200176_data5_RobustScaler.csv\")\n",
    "\n",
    "# 使用LabelEncoder将\"grade\"列特征值由ABCD转换为0123\n",
    "grade_encoder = LabelEncoder()\n",
    "data['grade'] = grade_encoder.fit_transform(data['grade'])\n",
    "\n",
    "# 使用OneHotEncoder将\"class\"列特征值转换为one-hot编码\n",
    "class_encoder = OneHotEncoder(sparse=False,dtype=int)\n",
    "class_encoded = class_encoder.fit_transform(data[['class']])\n",
    "\n",
    "# 创建新的DataFrame来整合处理结果\n",
    "new_data = pd.concat([data.drop(['class'], axis=1), pd.DataFrame(class_encoded)], axis=1)\n",
    "\n",
    "# 将处理结果另存为新文件\"学号_data.csv\"\n",
    "new_data.to_csv(\"113120200176_data.csv\", index=False)\n"
   ]
  },
  {
   "cell_type": "code",
   "execution_count": null,
   "metadata": {},
   "outputs": [],
   "source": [
    "import pandas as pd\n",
    "from sklearn.preprocessing import Binarizer\n",
    "\n",
    "# 读取数据文件\n",
    "data = pd.read_csv(\"113120200176_data.csv\")\n",
    "\n",
    "# 使用Binarizer对H3MeK4_N列的均值进行二值化\n",
    "h3mek4n_mean = data['H3MeK4_N'].mean()\n",
    "binarizer_h3mek4n = Binarizer(threshold=h3mek4n_mean)\n",
    "data['H3MeK4_N_binary'] = binarizer_h3mek4n.transform(data[['H3MeK4_N']])\n",
    "\n",
    "# 使用Binarizer对CaNA_N列的中位数进行二值化\n",
    "cana_n_median = data['CaNA_N'].median()\n",
    "binarizer_cana_n = Binarizer(threshold=cana_n_median)\n",
    "data['CaNA_N_binary'] = binarizer_cana_n.transform(data[['CaNA_N']])\n",
    "\n",
    "# 将处理结果另存为新文件 \"学号_data6.csv\"\n",
    "data.to_csv(\"113120200176_data6.csv\", index=False)"
   ]
  },
  {
   "cell_type": "code",
   "execution_count": 4,
   "metadata": {},
   "outputs": [],
   "source": [
    "import pandas as pd\n",
    "from sklearn.preprocessing import  KBinsDiscretizer\n",
    "\n",
    "# 读取数据文件\n",
    "data = pd.read_csv(\"113120200176_data.csv\")\n",
    "\n",
    "# 使用KBinsDiscretizer对H3MeK4_N列进行等频分段化（bins=3）\n",
    "kbin_discretizer_h3mek4n = KBinsDiscretizer(n_bins=3, encode='ordinal', strategy='quantile')\n",
    "h3mek4n_discretized = kbin_discretizer_h3mek4n.fit_transform(data[['H3MeK4_N']])\n",
    "data['H3MeK4_N_discretized'] = h3mek4n_discretized\n",
    "\n",
    "# 使用KBinsDiscretizer对CaNA_N列进行等宽分段化（bins=4）\n",
    "kbin_discretizer_cana_n = KBinsDiscretizer(n_bins=4, encode='ordinal', strategy='uniform')\n",
    "cana_n_discretized = kbin_discretizer_cana_n.fit_transform(data[['CaNA_N']])\n",
    "data['CaNA_N_discretized'] = cana_n_discretized\n",
    "\n",
    "# 将处理结果另存为新文件 \"学号_data7.csv\"\n",
    "data.to_csv(\"113120200176_data7.csv\", index=False)"
   ]
  }
 ],
 "metadata": {
  "kernelspec": {
   "display_name": "Python 3",
   "language": "python",
   "name": "python3"
  },
  "language_info": {
   "codemirror_mode": {
    "name": "ipython",
    "version": 3
   },
   "file_extension": ".py",
   "mimetype": "text/x-python",
   "name": "python",
   "nbconvert_exporter": "python",
   "pygments_lexer": "ipython3",
   "version": "3.11.1"
  },
  "orig_nbformat": 4
 },
 "nbformat": 4,
 "nbformat_minor": 2
}
